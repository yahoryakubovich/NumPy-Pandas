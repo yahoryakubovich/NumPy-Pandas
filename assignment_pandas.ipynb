{
  "metadata": {
    "kernelspec": {
      "name": "python",
      "display_name": "Python (Pyodide)",
      "language": "python"
    },
    "language_info": {
      "codemirror_mode": {
        "name": "ipython",
        "version": 3
      },
      "file_extension": ".py",
      "mimetype": "text/x-python",
      "name": "python",
      "nbconvert_exporter": "python",
      "pygments_lexer": "ipython3",
      "version": "3.8.10"
    },
    "anaconda-cloud": {}
  },
  "nbformat_minor": 4,
  "nbformat": 4,
  "cells": [
    {
      "cell_type": "markdown",
      "source": "## Датасет собран из базы данных переписи 1994 года и содержит данные о доходах.\n### Информация о данных:\n* age: continuous.\n* workclass: Private, Self-emp-not-inc, Self-emp-inc, Federal-gov, Local-gov, State-gov, Without-pay, Never-worked.\n* fnlwgt: continuous.\n* education: Bachelors, Some-college, 11th, HS-grad, Prof-school, Assoc-acdm, Assoc-voc, 9th, 7th-8th, 12th, * Masters, 1st-4th, 10th, Doctorate, 5th-6th, Preschool.\n* education-num: continuous.\n* marital-status: Married-civ-spouse, Divorced, Never-married, Separated, Widowed, Married-spouse-absent, Married-AF-spouse.\n* occupation: Tech-support, Craft-repair, Other-service, Sales, Exec-managerial, Prof-specialty, Handlers-cleaners, Machine-op-inspct, Adm-clerical, Farming-fishing, Transport-moving, Priv-house-serv, Protective-serv, Armed-Forces.\n* relationship: Wife, Own-child, Husband, Not-in-family, Other-relative, Unmarried.\n* race: White, Asian-Pac-Islander, Amer-Indian-Eskimo, Other, Black.\n* sex: Female, Male.\n* capital-gain: continuous.\n* capital-loss: continuous.\n* hours-per-week: continuous.\n* native-country: United-States, Cambodia, England, Puerto-Rico, Canada, Germany, Outlying-US(Guam-USVI-etc), India, Japan, Greece, South, China, Cuba, Iran, Honduras, Philippines, Italy, Poland, Jamaica, Vietnam, Mexico, Portugal, Ireland, France, Dominican-Republic, Laos, Ecuador, Taiwan, Haiti, Columbia, Hungary, Guatemala, Nicaragua, Scotland, Thailand, Yugoslavia, El-Salvador, Trinadad&Tobago, Peru, Hong, Holand-Netherlands.\n* salary: >50K,<=50K\n\n## Проведите анализ данных при помощи Pandas выполнив поставленные задачи.\n#### ",
      "metadata": {}
    },
    {
      "cell_type": "code",
      "source": "import pandas as pd",
      "metadata": {},
      "outputs": [],
      "execution_count": 1
    },
    {
      "cell_type": "code",
      "source": "# загружаем датасет\ndata = pd.read_csv(\"./data/adult.data.csv\")\ndata.head()",
      "metadata": {},
      "outputs": [
        {
          "data": {
            "text/html": [
              "<div>\n",
              "<style scoped>\n",
              "    .dataframe tbody tr th:only-of-type {\n",
              "        vertical-align: middle;\n",
              "    }\n",
              "\n",
              "    .dataframe tbody tr th {\n",
              "        vertical-align: top;\n",
              "    }\n",
              "\n",
              "    .dataframe thead th {\n",
              "        text-align: right;\n",
              "    }\n",
              "</style>\n",
              "<table border=\"1\" class=\"dataframe\">\n",
              "  <thead>\n",
              "    <tr style=\"text-align: right;\">\n",
              "      <th></th>\n",
              "      <th>age</th>\n",
              "      <th>workclass</th>\n",
              "      <th>fnlwgt</th>\n",
              "      <th>education</th>\n",
              "      <th>education-num</th>\n",
              "      <th>marital-status</th>\n",
              "      <th>occupation</th>\n",
              "      <th>relationship</th>\n",
              "      <th>race</th>\n",
              "      <th>sex</th>\n",
              "      <th>capital-gain</th>\n",
              "      <th>capital-loss</th>\n",
              "      <th>hours-per-week</th>\n",
              "      <th>native-country</th>\n",
              "      <th>salary</th>\n",
              "    </tr>\n",
              "  </thead>\n",
              "  <tbody>\n",
              "    <tr>\n",
              "      <th>0</th>\n",
              "      <td>39</td>\n",
              "      <td>State-gov</td>\n",
              "      <td>77516</td>\n",
              "      <td>Bachelors</td>\n",
              "      <td>13</td>\n",
              "      <td>Never-married</td>\n",
              "      <td>Adm-clerical</td>\n",
              "      <td>Not-in-family</td>\n",
              "      <td>White</td>\n",
              "      <td>Male</td>\n",
              "      <td>2174</td>\n",
              "      <td>0</td>\n",
              "      <td>40</td>\n",
              "      <td>United-States</td>\n",
              "      <td>&lt;=50K</td>\n",
              "    </tr>\n",
              "    <tr>\n",
              "      <th>1</th>\n",
              "      <td>50</td>\n",
              "      <td>Self-emp-not-inc</td>\n",
              "      <td>83311</td>\n",
              "      <td>Bachelors</td>\n",
              "      <td>13</td>\n",
              "      <td>Married-civ-spouse</td>\n",
              "      <td>Exec-managerial</td>\n",
              "      <td>Husband</td>\n",
              "      <td>White</td>\n",
              "      <td>Male</td>\n",
              "      <td>0</td>\n",
              "      <td>0</td>\n",
              "      <td>13</td>\n",
              "      <td>United-States</td>\n",
              "      <td>&lt;=50K</td>\n",
              "    </tr>\n",
              "    <tr>\n",
              "      <th>2</th>\n",
              "      <td>38</td>\n",
              "      <td>Private</td>\n",
              "      <td>215646</td>\n",
              "      <td>HS-grad</td>\n",
              "      <td>9</td>\n",
              "      <td>Divorced</td>\n",
              "      <td>Handlers-cleaners</td>\n",
              "      <td>Not-in-family</td>\n",
              "      <td>White</td>\n",
              "      <td>Male</td>\n",
              "      <td>0</td>\n",
              "      <td>0</td>\n",
              "      <td>40</td>\n",
              "      <td>United-States</td>\n",
              "      <td>&lt;=50K</td>\n",
              "    </tr>\n",
              "    <tr>\n",
              "      <th>3</th>\n",
              "      <td>53</td>\n",
              "      <td>Private</td>\n",
              "      <td>234721</td>\n",
              "      <td>11th</td>\n",
              "      <td>7</td>\n",
              "      <td>Married-civ-spouse</td>\n",
              "      <td>Handlers-cleaners</td>\n",
              "      <td>Husband</td>\n",
              "      <td>Black</td>\n",
              "      <td>Male</td>\n",
              "      <td>0</td>\n",
              "      <td>0</td>\n",
              "      <td>40</td>\n",
              "      <td>United-States</td>\n",
              "      <td>&lt;=50K</td>\n",
              "    </tr>\n",
              "    <tr>\n",
              "      <th>4</th>\n",
              "      <td>28</td>\n",
              "      <td>Private</td>\n",
              "      <td>338409</td>\n",
              "      <td>Bachelors</td>\n",
              "      <td>13</td>\n",
              "      <td>Married-civ-spouse</td>\n",
              "      <td>Prof-specialty</td>\n",
              "      <td>Wife</td>\n",
              "      <td>Black</td>\n",
              "      <td>Female</td>\n",
              "      <td>0</td>\n",
              "      <td>0</td>\n",
              "      <td>40</td>\n",
              "      <td>Cuba</td>\n",
              "      <td>&lt;=50K</td>\n",
              "    </tr>\n",
              "  </tbody>\n",
              "</table>\n",
              "</div>"
            ],
            "text/plain": [
              "   age         workclass  fnlwgt  education  education-num  \\\n",
              "0   39         State-gov   77516  Bachelors             13   \n",
              "1   50  Self-emp-not-inc   83311  Bachelors             13   \n",
              "2   38           Private  215646    HS-grad              9   \n",
              "3   53           Private  234721       11th              7   \n",
              "4   28           Private  338409  Bachelors             13   \n",
              "\n",
              "       marital-status         occupation   relationship   race     sex  \\\n",
              "0       Never-married       Adm-clerical  Not-in-family  White    Male   \n",
              "1  Married-civ-spouse    Exec-managerial        Husband  White    Male   \n",
              "2            Divorced  Handlers-cleaners  Not-in-family  White    Male   \n",
              "3  Married-civ-spouse  Handlers-cleaners        Husband  Black    Male   \n",
              "4  Married-civ-spouse     Prof-specialty           Wife  Black  Female   \n",
              "\n",
              "   capital-gain  capital-loss  hours-per-week native-country salary  \n",
              "0          2174             0              40  United-States  <=50K  \n",
              "1             0             0              13  United-States  <=50K  \n",
              "2             0             0              40  United-States  <=50K  \n",
              "3             0             0              40  United-States  <=50K  \n",
              "4             0             0              40           Cuba  <=50K  "
            ]
          },
          "execution_count": 16,
          "metadata": {},
          "output_type": "execute_result"
        }
      ],
      "execution_count": 16
    },
    {
      "cell_type": "markdown",
      "source": "**1. Посчитайте, сколько мужчин и женщин (признак *sex*) представлено в этом датасете**",
      "metadata": {}
    },
    {
      "cell_type": "code",
      "source": "data['sex'].value_counts()\nmen = data['sex'] == 'Male'\nwomen = data['sex'] == 'Female'\nprint(men.value_counts()[1])\nprint(women.value_counts()[1])",
      "metadata": {},
      "outputs": [],
      "execution_count": 3
    },
    {
      "cell_type": "markdown",
      "source": "**2. Каков средний возраст мужчин (признак *age*) по всему датасету?**",
      "metadata": {}
    },
    {
      "cell_type": "code",
      "source": "data['age'].where(data['sex'] == 'Male').mean()",
      "metadata": {},
      "outputs": [],
      "execution_count": 4
    },
    {
      "cell_type": "markdown",
      "source": "**3. Какова доля граждан Соединенных Штатов (признак *native-country*)?**",
      "metadata": {}
    },
    {
      "cell_type": "code",
      "source": "us_citizens_count = data['native-country'].value_counts().get('United-States', 0)\ntotal_records = len(data)\nus_citizens_percentage = us_citizens_count / total_records\nprint(f\"Доля граждан Соединенных Штатов: {us_citizens_percentage:.2%}\")",
      "metadata": {},
      "outputs": [],
      "execution_count": 5
    },
    {
      "cell_type": "markdown",
      "source": "**4-5. Рассчитайте среднее значение и среднеквадратичное отклонение возраста тех, кто получает более 50K в год (признак *salary*) и тех, кто получает менее 50K в год**",
      "metadata": {}
    },
    {
      "cell_type": "code",
      "source": "high_income_group = data[data['salary'] == '>50K']\nlow_income_group = data[data['salary'] == '<=50K']\n\navg_age_high_income = high_income_group['age'].mean()\nstd_age_high_income = high_income_group['age'].std()\n\navg_age_low_income = low_income_group['age'].mean()\nstd_age_low_income = low_income_group['age'].std()\n\nprint(f\"Средний возраст для тех, кто получает более 50K: {avg_age_high_income:.2f}\")\nprint(f\"Среднеквадратичное отклонение возраста для тех, кто получает более 50K: {std_age_high_income:.2f}\\n\")\n\nprint(f\"Средний возраст для тех, кто получает менее 50K: {avg_age_low_income:.2f}\")\nprint(f\"Среднеквадратичное отклонение возраста для тех, кто получает менее 50K: {std_age_low_income:.2f}\")",
      "metadata": {},
      "outputs": [],
      "execution_count": 6
    },
    {
      "cell_type": "markdown",
      "source": "**6. Правда ли, что люди, которые получают больше 50k, имеют минимум высшее образование? (признак *education – Bachelors, Prof-school, Assoc-acdm, Assoc-voc, Masters* или *Doctorate*)**",
      "metadata": {}
    },
    {
      "cell_type": "code",
      "source": "unique_education_levels = data['education'].unique()\n\nfor education_level in ['Bachelors', 'Prof-school', 'Assoc-acdm', 'Assoc-voc', 'Masters', 'Doctorate']:\n    if education_level not in unique_education_levels:\n        print(f\"Уровень образования {education_level} отсутствует в данных.\")\n\nhigh_income_education = data[data['salary'] == '>50K']['education']\n\nnon_matching_education = high_income_education[\n    ~high_income_education.isin(['Bachelors', 'Prof-school', 'Assoc-acdm', 'Assoc-voc', 'Masters', 'Doctorate'])]\n\nif non_matching_education.empty:\n    print(\"Все люди, получающие более 50K, имеют минимум высшее образование.\")\nelse:\n    print(\"Есть люди, получающие более 50K, с уровнем образования, не соответствующим заданным.\")\n    print(non_matching_education)",
      "metadata": {},
      "outputs": [],
      "execution_count": 7
    },
    {
      "cell_type": "markdown",
      "source": "**7. Выведите статистику возраста для каждой расы (признак *race*) и каждого пола. Используйте *groupby* и *describe*. Найдите таким образом максимальный возраст мужчин расы *Asian-Pac-Islander*.**",
      "metadata": {}
    },
    {
      "cell_type": "code",
      "source": "age_statistics = data.groupby(['sex', 'race'])['age'].describe()\nprint(age_statistics)\n\nmax_age_asian_pac_islander_male = data[(data['race'] == 'Asian-Pac-Islander') & (data['sex'] == 'Male')]['age'].max()\nprint(f\"\\nМаксимальный возраст мужчин расы Asian-Pac-Islander: {max_age_asian_pac_islander_male}\")",
      "metadata": {
        "scrolled": true
      },
      "outputs": [],
      "execution_count": 8
    },
    {
      "cell_type": "markdown",
      "source": "**8. Среди кого больше доля зарабатывающих много (>50K): среди женатых или холостых мужчин (признак *marital-status*)? Женатыми считаем тех, у кого *marital-status* начинается с *Married* (Married-civ-spouse, Married-spouse-absent или Married-AF-spouse), остальных считаем холостыми.**",
      "metadata": {}
    },
    {
      "cell_type": "code",
      "source": "married_condition = data['marital-status'].str.startswith('Married')\nhigh_income_condition = data['salary'] == '>50K'\n\nmarried_men = data.loc[married_condition & (data['sex'] == 'Male')]\nsingle_men = data.loc[~married_condition & (data['sex'] == 'Male')]\n\nmarried_high_income_percentage = married_men.loc[high_income_condition, 'age'].shape[0] / married_men.shape[0]\nsingle_high_income_percentage = single_men.loc[high_income_condition, 'age'].shape[0] / single_men.shape[0]\n\nif married_high_income_percentage > single_high_income_percentage:\n    print(\"Среди женатых мужчин доля зарабатывающих много больше.\")\nelse:\n    print(\"Среди холостых мужчин доля зарабатывающих много больше.\")",
      "metadata": {},
      "outputs": [],
      "execution_count": 9
    },
    {
      "cell_type": "markdown",
      "source": "**9. Какое максимальное число часов человек работает в неделю (признак *hours-per-week*)? Сколько людей работают такое количество часов и каков среди них процент зарабатывающих много?**",
      "metadata": {}
    },
    {
      "cell_type": "code",
      "source": "max_hours_per_week = data['hours-per-week'].max()\npeople_working_max_hours = data[data['hours-per-week'] == max_hours_per_week]\npercentage_high_income_max_hours = (people_working_max_hours['salary'] == '>50K').mean()\nprint(f\"Максимальное количество часов в неделю: {max_hours_per_week}\")\nprint(f\"Количество людей, работающих {max_hours_per_week} часов в неделю: {len(people_working_max_hours)}\")\nprint(f\"Процент зарабатывающих много среди них: {percentage_high_income_max_hours:.2%}\")",
      "metadata": {},
      "outputs": [],
      "execution_count": 10
    },
    {
      "cell_type": "markdown",
      "source": "**10. Посчитайте среднее время работы (*hours-per-week*) зарабатывающих мало и много (*salary*) для каждой страны (*native-country*).**",
      "metadata": {}
    },
    {
      "cell_type": "code",
      "source": "people_high_income = data['salary'] == '>50K'\npeople_low_income = data['salary'] == '<=50K'\n\naverage_working_hours_by_country_high_income = data[people_high_income].groupby('native-country')[\n    'hours-per-week'].mean()\naverage_working_hours_by_country_low_income = data[people_low_income].groupby('native-country')['hours-per-week'].mean()\n\nprint(average_working_hours_by_country_high_income)\nprint(average_working_hours_by_country_low_income)",
      "metadata": {
        "scrolled": true
      },
      "outputs": [],
      "execution_count": 11
    },
    {
      "cell_type": "markdown",
      "source": "**11.Сгруппируйте людей по возрастным группам *young*, *adult*, *retiree*, где:**\n* *young* соответствует 16-35 лет\n* *adult* - 35-70 лет\n* *retiree* - 70-100 лет\n\n**Проставьте название соответсвтуещей группы для каждого человека в новой колонке AgeGroup**",
      "metadata": {}
    },
    {
      "cell_type": "code",
      "source": "age_bins = [16, 35, 70, 100]\nage_labels = ['young', 'adult', 'retiree']\ndata['AgeGroup'] = pd.cut(data['age'], bins=age_bins, labels=age_labels, right=False)\ndata.head()",
      "metadata": {
        "scrolled": true
      },
      "outputs": [],
      "execution_count": 12
    },
    {
      "cell_type": "markdown",
      "source": "**12-13. Определите количество зарабатывающих >50K в каждой из возрастных групп (колонка AgeGroup), а также выведите название возрастной группы, в которой чаще зарабатывают больше 50К (>50K)**",
      "metadata": {}
    },
    {
      "cell_type": "code",
      "source": "income_counts_by_age_group = data[data['salary'] == '>50K'].groupby('AgeGroup').size()\nprint(income_counts_by_age_group)\nmost_common_income_group = income_counts_by_age_group.idxmax()\nprint(f\"\\nВозрастная группа, в которой чаще зарабатывают >50K: {most_common_income_group}\")",
      "metadata": {},
      "outputs": [],
      "execution_count": 13
    },
    {
      "cell_type": "markdown",
      "source": "**14. Сгруппируйте людей по типу занятости (колонка occupation) и определите количество людей в каждой группе. После чего напишите функциюю фильтрации filter_func, которая будет возвращать только те группы, в которых средний возраст (колонка age) не больше 40 и в которых все работники отрабатывают более 5 часов в неделю (колонка hours-per-week)**",
      "metadata": {}
    },
    {
      "cell_type": "code",
      "source": "occupation_counts = data.groupby('occupation').size()\nprint(\"Количество людей в каждой группе (по типу занятости):\")\nprint(occupation_counts)\n\ndef filter_func(group):\n    return (group['age'].mean() <= 40) and (group['hours-per-week'].min() > 5)\n\nfiltered_groups = data.groupby('occupation').filter(filter_func)\n\nprint(\"\\nГруппы, в которых средний возраст не больше 40 и все работники отрабатывают более 5 часов в неделю:\")\nprint(filtered_groups.groupby('occupation').size())",
      "metadata": {},
      "outputs": [],
      "execution_count": 14
    }
  ]
}