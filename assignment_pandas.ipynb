{
 "cells": [
  {
   "cell_type": "markdown",
   "metadata": {},
   "source": [
    "## Датасет собран из базы данных переписи 1994 года и содержит данные о доходах.\n",
    "### Информация о данных:\n",
    "* age: continuous.\n",
    "* workclass: Private, Self-emp-not-inc, Self-emp-inc, Federal-gov, Local-gov, State-gov, Without-pay, Never-worked.\n",
    "* fnlwgt: continuous.\n",
    "* education: Bachelors, Some-college, 11th, HS-grad, Prof-school, Assoc-acdm, Assoc-voc, 9th, 7th-8th, 12th, * Masters, 1st-4th, 10th, Doctorate, 5th-6th, Preschool.\n",
    "* education-num: continuous.\n",
    "* marital-status: Married-civ-spouse, Divorced, Never-married, Separated, Widowed, Married-spouse-absent, Married-AF-spouse.\n",
    "* occupation: Tech-support, Craft-repair, Other-service, Sales, Exec-managerial, Prof-specialty, Handlers-cleaners, Machine-op-inspct, Adm-clerical, Farming-fishing, Transport-moving, Priv-house-serv, Protective-serv, Armed-Forces.\n",
    "* relationship: Wife, Own-child, Husband, Not-in-family, Other-relative, Unmarried.\n",
    "* race: White, Asian-Pac-Islander, Amer-Indian-Eskimo, Other, Black.\n",
    "* sex: Female, Male.\n",
    "* capital-gain: continuous.\n",
    "* capital-loss: continuous.\n",
    "* hours-per-week: continuous.\n",
    "* native-country: United-States, Cambodia, England, Puerto-Rico, Canada, Germany, Outlying-US(Guam-USVI-etc), India, Japan, Greece, South, China, Cuba, Iran, Honduras, Philippines, Italy, Poland, Jamaica, Vietnam, Mexico, Portugal, Ireland, France, Dominican-Republic, Laos, Ecuador, Taiwan, Haiti, Columbia, Hungary, Guatemala, Nicaragua, Scotland, Thailand, Yugoslavia, El-Salvador, Trinadad&Tobago, Peru, Hong, Holand-Netherlands.\n",
    "* salary: >50K,<=50K\n",
    "\n",
    "## Проведите анализ данных при помощи Pandas выполнив поставленные задачи.\n",
    "#### "
   ]
  },
  {
   "cell_type": "code",
   "execution_count": 45,
   "metadata": {},
   "outputs": [],
   "source": [
    "import pandas as pd"
   ]
  },
  {
   "cell_type": "code",
   "execution_count": 46,
   "metadata": {},
   "outputs": [
    {
     "data": {
      "text/html": [
       "<div>\n",
       "<style scoped>\n",
       "    .dataframe tbody tr th:only-of-type {\n",
       "        vertical-align: middle;\n",
       "    }\n",
       "\n",
       "    .dataframe tbody tr th {\n",
       "        vertical-align: top;\n",
       "    }\n",
       "\n",
       "    .dataframe thead th {\n",
       "        text-align: right;\n",
       "    }\n",
       "</style>\n",
       "<table border=\"1\" class=\"dataframe\">\n",
       "  <thead>\n",
       "    <tr style=\"text-align: right;\">\n",
       "      <th></th>\n",
       "      <th>age</th>\n",
       "      <th>workclass</th>\n",
       "      <th>fnlwgt</th>\n",
       "      <th>education</th>\n",
       "      <th>education-num</th>\n",
       "      <th>marital-status</th>\n",
       "      <th>occupation</th>\n",
       "      <th>relationship</th>\n",
       "      <th>race</th>\n",
       "      <th>sex</th>\n",
       "      <th>capital-gain</th>\n",
       "      <th>capital-loss</th>\n",
       "      <th>hours-per-week</th>\n",
       "      <th>native-country</th>\n",
       "      <th>salary</th>\n",
       "    </tr>\n",
       "  </thead>\n",
       "  <tbody>\n",
       "    <tr>\n",
       "      <th>0</th>\n",
       "      <td>39</td>\n",
       "      <td>State-gov</td>\n",
       "      <td>77516</td>\n",
       "      <td>Bachelors</td>\n",
       "      <td>13</td>\n",
       "      <td>Never-married</td>\n",
       "      <td>Adm-clerical</td>\n",
       "      <td>Not-in-family</td>\n",
       "      <td>White</td>\n",
       "      <td>Male</td>\n",
       "      <td>2174</td>\n",
       "      <td>0</td>\n",
       "      <td>40</td>\n",
       "      <td>United-States</td>\n",
       "      <td>&lt;=50K</td>\n",
       "    </tr>\n",
       "    <tr>\n",
       "      <th>1</th>\n",
       "      <td>50</td>\n",
       "      <td>Self-emp-not-inc</td>\n",
       "      <td>83311</td>\n",
       "      <td>Bachelors</td>\n",
       "      <td>13</td>\n",
       "      <td>Married-civ-spouse</td>\n",
       "      <td>Exec-managerial</td>\n",
       "      <td>Husband</td>\n",
       "      <td>White</td>\n",
       "      <td>Male</td>\n",
       "      <td>0</td>\n",
       "      <td>0</td>\n",
       "      <td>13</td>\n",
       "      <td>United-States</td>\n",
       "      <td>&lt;=50K</td>\n",
       "    </tr>\n",
       "    <tr>\n",
       "      <th>2</th>\n",
       "      <td>38</td>\n",
       "      <td>Private</td>\n",
       "      <td>215646</td>\n",
       "      <td>HS-grad</td>\n",
       "      <td>9</td>\n",
       "      <td>Divorced</td>\n",
       "      <td>Handlers-cleaners</td>\n",
       "      <td>Not-in-family</td>\n",
       "      <td>White</td>\n",
       "      <td>Male</td>\n",
       "      <td>0</td>\n",
       "      <td>0</td>\n",
       "      <td>40</td>\n",
       "      <td>United-States</td>\n",
       "      <td>&lt;=50K</td>\n",
       "    </tr>\n",
       "    <tr>\n",
       "      <th>3</th>\n",
       "      <td>53</td>\n",
       "      <td>Private</td>\n",
       "      <td>234721</td>\n",
       "      <td>11th</td>\n",
       "      <td>7</td>\n",
       "      <td>Married-civ-spouse</td>\n",
       "      <td>Handlers-cleaners</td>\n",
       "      <td>Husband</td>\n",
       "      <td>Black</td>\n",
       "      <td>Male</td>\n",
       "      <td>0</td>\n",
       "      <td>0</td>\n",
       "      <td>40</td>\n",
       "      <td>United-States</td>\n",
       "      <td>&lt;=50K</td>\n",
       "    </tr>\n",
       "    <tr>\n",
       "      <th>4</th>\n",
       "      <td>28</td>\n",
       "      <td>Private</td>\n",
       "      <td>338409</td>\n",
       "      <td>Bachelors</td>\n",
       "      <td>13</td>\n",
       "      <td>Married-civ-spouse</td>\n",
       "      <td>Prof-specialty</td>\n",
       "      <td>Wife</td>\n",
       "      <td>Black</td>\n",
       "      <td>Female</td>\n",
       "      <td>0</td>\n",
       "      <td>0</td>\n",
       "      <td>40</td>\n",
       "      <td>Cuba</td>\n",
       "      <td>&lt;=50K</td>\n",
       "    </tr>\n",
       "  </tbody>\n",
       "</table>\n",
       "</div>"
      ],
      "text/plain": [
       "   age         workclass  fnlwgt  education  education-num  \\\n",
       "0   39         State-gov   77516  Bachelors             13   \n",
       "1   50  Self-emp-not-inc   83311  Bachelors             13   \n",
       "2   38           Private  215646    HS-grad              9   \n",
       "3   53           Private  234721       11th              7   \n",
       "4   28           Private  338409  Bachelors             13   \n",
       "\n",
       "       marital-status         occupation   relationship   race     sex  \\\n",
       "0       Never-married       Adm-clerical  Not-in-family  White    Male   \n",
       "1  Married-civ-spouse    Exec-managerial        Husband  White    Male   \n",
       "2            Divorced  Handlers-cleaners  Not-in-family  White    Male   \n",
       "3  Married-civ-spouse  Handlers-cleaners        Husband  Black    Male   \n",
       "4  Married-civ-spouse     Prof-specialty           Wife  Black  Female   \n",
       "\n",
       "   capital-gain  capital-loss  hours-per-week native-country salary  \n",
       "0          2174             0              40  United-States  <=50K  \n",
       "1             0             0              13  United-States  <=50K  \n",
       "2             0             0              40  United-States  <=50K  \n",
       "3             0             0              40  United-States  <=50K  \n",
       "4             0             0              40           Cuba  <=50K  "
      ]
     },
     "execution_count": 46,
     "metadata": {},
     "output_type": "execute_result"
    }
   ],
   "source": [
    "# загружаем датасет\n",
    "data = pd.read_csv(\"data/adult.data.csv\")\n",
    "data.head()"
   ]
  },
  {
   "cell_type": "markdown",
   "metadata": {},
   "source": [
    "**1. Посчитайте, сколько мужчин и женщин (признак *sex*) представлено в этом датасете**"
   ]
  },
  {
   "cell_type": "code",
   "execution_count": 47,
   "metadata": {},
   "outputs": [
    {
     "name": "stdout",
     "output_type": "stream",
     "text": [
      "   gender  count\n",
      "0    Male  21790\n",
      "1  Female  10771\n"
     ]
    }
   ],
   "source": [
    "\n",
    "gender_counts = data['sex'].value_counts()\n",
    "gender_df = pd.DataFrame({\n",
    "    'gender': gender_counts.index,\n",
    "    'count': gender_counts.values\n",
    "})\n",
    "print(gender_df)\n"
   ]
  },
  {
   "cell_type": "markdown",
   "metadata": {},
   "source": [
    "**2. Каков средний возраст мужчин (признак *age*) по всему датасету?**"
   ]
  },
  {
   "cell_type": "code",
   "execution_count": 48,
   "metadata": {},
   "outputs": [
    {
     "data": {
      "text/plain": [
       "39.43354749885268"
      ]
     },
     "execution_count": 48,
     "metadata": {},
     "output_type": "execute_result"
    }
   ],
   "source": [
    "data['age'].where(data['sex'] == 'Male').mean()"
   ]
  },
  {
   "cell_type": "markdown",
   "metadata": {},
   "source": [
    "**3. Какова доля граждан Соединенных Штатов (признак *native-country*)?**"
   ]
  },
  {
   "cell_type": "code",
   "execution_count": 49,
   "metadata": {},
   "outputs": [
    {
     "name": "stdout",
     "output_type": "stream",
     "text": [
      "Доля граждан Соединенных Штатов: 89.59%\n"
     ]
    }
   ],
   "source": [
    "us_citizens_count = (data['native-country'] == 'United-States').sum()\n",
    "total_records = len(data)\n",
    "us_citizens_percentage = (us_citizens_count / total_records) * 100\n",
    "print(f\"Доля граждан Соединенных Штатов: {us_citizens_percentage:.2f}%\")"
   ]
  },
  {
   "cell_type": "markdown",
   "metadata": {},
   "source": [
    "**4-5. Рассчитайте среднее значение и среднеквадратичное отклонение возраста тех, кто получает более 50K в год (признак *salary*) и тех, кто получает менее 50K в год**"
   ]
  },
  {
   "cell_type": "code",
   "execution_count": 50,
   "metadata": {},
   "outputs": [
    {
     "name": "stdout",
     "output_type": "stream",
     "text": [
      "Средний возраст для тех, кто получает более 50K: 44.25\n",
      "Среднеквадратичное отклонение возраста для тех, кто получает более 50K: 10.52\n",
      "\n",
      "Средний возраст для тех, кто получает менее 50K: 36.78\n",
      "Среднеквадратичное отклонение возраста для тех, кто получает менее 50K: 14.02\n"
     ]
    }
   ],
   "source": [
    "high_income_group = data[data['salary'] == '>50K']\n",
    "low_income_group = data[data['salary'] == '<=50K']\n",
    "\n",
    "avg_age_high_income = high_income_group['age'].mean()\n",
    "std_age_high_income = high_income_group['age'].std()\n",
    "\n",
    "avg_age_low_income = low_income_group['age'].mean()\n",
    "std_age_low_income = low_income_group['age'].std()\n",
    "\n",
    "print(f\"Средний возраст для тех, кто получает более 50K: {avg_age_high_income:.2f}\")\n",
    "print(f\"Среднеквадратичное отклонение возраста для тех, кто получает более 50K: {std_age_high_income:.2f}\\n\")\n",
    "\n",
    "print(f\"Средний возраст для тех, кто получает менее 50K: {avg_age_low_income:.2f}\")\n",
    "print(f\"Среднеквадратичное отклонение возраста для тех, кто получает менее 50K: {std_age_low_income:.2f}\")"
   ]
  },
  {
   "cell_type": "markdown",
   "metadata": {},
   "source": [
    "**6. Правда ли, что люди, которые получают больше 50k, имеют минимум высшее образование? (признак *education – Bachelors, Prof-school, Assoc-acdm, Assoc-voc, Masters* или *Doctorate*)**"
   ]
  },
  {
   "cell_type": "code",
   "execution_count": 51,
   "metadata": {},
   "outputs": [
    {
     "name": "stdout",
     "output_type": "stream",
     "text": [
      "Есть люди, получающие более 50K, с уровнем образования, не соответствующим заданным.\n",
      "7             HS-grad\n",
      "10       Some-college\n",
      "27       Some-college\n",
      "38       Some-college\n",
      "55       Some-college\n",
      "             ...     \n",
      "32510         HS-grad\n",
      "32518         HS-grad\n",
      "32519    Some-college\n",
      "32557         HS-grad\n",
      "32560         HS-grad\n",
      "Name: education, Length: 3306, dtype: object\n"
     ]
    }
   ],
   "source": [
    "unique_education_levels = data['education'].unique()\n",
    "\n",
    "for education_level in ['Bachelors', 'Prof-school', 'Assoc-acdm', 'Assoc-voc', 'Masters', 'Doctorate']:\n",
    "    if education_level not in unique_education_levels:\n",
    "        print(f\"Уровень образования {education_level} отсутствует в данных.\")\n",
    "\n",
    "high_income_education = data[data['salary'] == '>50K']['education']\n",
    "\n",
    "non_matching_education = high_income_education[\n",
    "    ~high_income_education.isin(['Bachelors', 'Prof-school', 'Assoc-acdm', 'Assoc-voc', 'Masters', 'Doctorate'])]\n",
    "\n",
    "if non_matching_education.empty:\n",
    "    print(\"Все люди, получающие более 50K, имеют минимум высшее образование.\")\n",
    "else:\n",
    "    print(\"Есть люди, получающие более 50K, с уровнем образования, не соответствующим заданным.\")\n",
    "    print(non_matching_education)"
   ]
  },
  {
   "cell_type": "markdown",
   "metadata": {},
   "source": [
    "**7. Выведите статистику возраста для каждой расы (признак *race*) и каждого пола. Используйте *groupby* и *describe*. Найдите таким образом максимальный возраст мужчин расы *Asian-Pac-Islander*.**"
   ]
  },
  {
   "cell_type": "code",
   "execution_count": 52,
   "metadata": {
    "scrolled": true
   },
   "outputs": [
    {
     "name": "stdout",
     "output_type": "stream",
     "text": [
      "                             count       mean        std   min   25%   50%  \\\n",
      "sex    race                                                                  \n",
      "Female Amer-Indian-Eskimo    119.0  37.117647  13.114991  17.0  27.0  36.0   \n",
      "       Asian-Pac-Islander    346.0  35.089595  12.300845  17.0  25.0  33.0   \n",
      "       Black                1555.0  37.854019  12.637197  17.0  28.0  37.0   \n",
      "       Other                 109.0  31.678899  11.631599  17.0  23.0  29.0   \n",
      "       White                8642.0  36.811618  14.329093  17.0  25.0  35.0   \n",
      "Male   Amer-Indian-Eskimo    192.0  37.208333  12.049563  17.0  28.0  35.0   \n",
      "       Asian-Pac-Islander    693.0  39.073593  12.883944  18.0  29.0  37.0   \n",
      "       Black                1569.0  37.682600  12.882612  17.0  27.0  36.0   \n",
      "       Other                 162.0  34.654321  11.355531  17.0  26.0  32.0   \n",
      "       White               19174.0  39.652498  13.436029  17.0  29.0  38.0   \n",
      "\n",
      "                             75%   max  \n",
      "sex    race                             \n",
      "Female Amer-Indian-Eskimo  46.00  80.0  \n",
      "       Asian-Pac-Islander  43.75  75.0  \n",
      "       Black               46.00  90.0  \n",
      "       Other               39.00  74.0  \n",
      "       White               46.00  90.0  \n",
      "Male   Amer-Indian-Eskimo  45.00  82.0  \n",
      "       Asian-Pac-Islander  46.00  90.0  \n",
      "       Black               46.00  90.0  \n",
      "       Other               42.00  77.0  \n",
      "       White               49.00  90.0  \n",
      "\n",
      "Максимальный возраст мужчин расы Asian-Pac-Islander: 90\n"
     ]
    }
   ],
   "source": [
    "age_statistics = data.groupby(['sex', 'race'])['age'].describe()\n",
    "print(age_statistics)\n",
    "\n",
    "max_age_asian_pac_islander_male = data[(data['race'] == 'Asian-Pac-Islander') & (data['sex'] == 'Male')]['age'].max()\n",
    "print(f\"\\nМаксимальный возраст мужчин расы Asian-Pac-Islander: {max_age_asian_pac_islander_male}\")"
   ]
  },
  {
   "cell_type": "markdown",
   "metadata": {},
   "source": [
    "**8. Среди кого больше доля зарабатывающих много (>50K): среди женатых или холостых мужчин (признак *marital-status*)? Женатыми считаем тех, у кого *marital-status* начинается с *Married* (Married-civ-spouse, Married-spouse-absent или Married-AF-spouse), остальных считаем холостыми.**"
   ]
  },
  {
   "cell_type": "code",
   "execution_count": 53,
   "metadata": {},
   "outputs": [
    {
     "name": "stdout",
     "output_type": "stream",
     "text": [
      "Доля зарабатывающих много среди женатых мужчин: 44.05%\n",
      "Доля зарабатывающих много среди холостых мужчин: 8.45%\n",
      "Среди женатых мужчин доля зарабатывающих много больше.\n"
     ]
    }
   ],
   "source": [
    "married_condition = data['marital-status'].str.startswith('Married')\n",
    "high_income_condition = data['salary'] == '>50K'\n",
    "\n",
    "married_men = data.loc[married_condition & (data['sex'] == 'Male')]\n",
    "single_men = data.loc[~married_condition & (data['sex'] == 'Male')]\n",
    "\n",
    "married_high_income_percentage = married_men.loc[high_income_condition, 'age'].shape[0] / married_men.shape[0]\n",
    "single_high_income_percentage = single_men.loc[high_income_condition, 'age'].shape[0] / single_men.shape[0]\n",
    "\n",
    "print(f\"Доля зарабатывающих много среди женатых мужчин: {married_high_income_percentage:.2%}\")\n",
    "print(f\"Доля зарабатывающих много среди холостых мужчин: {single_high_income_percentage:.2%}\")\n",
    "\n",
    "if married_high_income_percentage > single_high_income_percentage:\n",
    "    print(\"Среди женатых мужчин доля зарабатывающих много больше.\")\n",
    "else:\n",
    "    print(\"Среди холостых мужчин доля зарабатывающих много больше.\")\n"
   ]
  },
  {
   "cell_type": "markdown",
   "metadata": {},
   "source": [
    "**9. Какое максимальное число часов человек работает в неделю (признак *hours-per-week*)? Сколько людей работают такое количество часов и каков среди них процент зарабатывающих много?**"
   ]
  },
  {
   "cell_type": "code",
   "execution_count": 54,
   "metadata": {},
   "outputs": [
    {
     "name": "stdout",
     "output_type": "stream",
     "text": [
      "Максимальное количество часов в неделю: 99\n",
      "Количество людей, работающих 99 часов в неделю: 85\n",
      "Процент зарабатывающих много среди них: 29.41%\n"
     ]
    }
   ],
   "source": [
    "max_hours_per_week = data['hours-per-week'].max()\n",
    "people_working_max_hours = data[data['hours-per-week'] == max_hours_per_week]\n",
    "percentage_high_income_max_hours = (people_working_max_hours['salary'] == '>50K').mean()\n",
    "print(f\"Максимальное количество часов в неделю: {max_hours_per_week}\")\n",
    "print(f\"Количество людей, работающих {max_hours_per_week} часов в неделю: {len(people_working_max_hours)}\")\n",
    "print(f\"Процент зарабатывающих много среди них: {percentage_high_income_max_hours:.2%}\")"
   ]
  },
  {
   "cell_type": "markdown",
   "metadata": {},
   "source": [
    "**10. Посчитайте среднее время работы (*hours-per-week*) зарабатывающих мало и много (*salary*) для каждой страны (*native-country*).**"
   ]
  },
  {
   "cell_type": "code",
   "execution_count": 55,
   "metadata": {
    "scrolled": true
   },
   "outputs": [
    {
     "name": "stdout",
     "output_type": "stream",
     "text": [
      "                native-country  average_hours_per_week_high_income  \\\n",
      "0                            ?                           45.547945   \n",
      "1                     Cambodia                           40.000000   \n",
      "2                       Canada                           45.641026   \n",
      "3                        China                           38.900000   \n",
      "4                     Columbia                           50.000000   \n",
      "5                         Cuba                           42.440000   \n",
      "6           Dominican-Republic                           47.000000   \n",
      "7                      Ecuador                           48.750000   \n",
      "8                  El-Salvador                           45.000000   \n",
      "9                      England                           44.533333   \n",
      "10                      France                           50.750000   \n",
      "11                     Germany                           44.977273   \n",
      "12                      Greece                           50.625000   \n",
      "13                   Guatemala                           36.666667   \n",
      "14                       Haiti                           42.750000   \n",
      "15                    Honduras                           60.000000   \n",
      "16                        Hong                           45.000000   \n",
      "17                     Hungary                           50.000000   \n",
      "18                       India                           46.475000   \n",
      "19                        Iran                           47.500000   \n",
      "20                     Ireland                           48.000000   \n",
      "21                       Italy                           45.400000   \n",
      "22                     Jamaica                           41.100000   \n",
      "23                       Japan                           47.958333   \n",
      "24                        Laos                           40.000000   \n",
      "25                      Mexico                           46.575758   \n",
      "26                   Nicaragua                           37.500000   \n",
      "27                        Peru                           40.000000   \n",
      "28                 Philippines                           43.032787   \n",
      "29                      Poland                           39.000000   \n",
      "30                    Portugal                           41.500000   \n",
      "31                 Puerto-Rico                           39.416667   \n",
      "32                    Scotland                           46.666667   \n",
      "33                       South                           51.437500   \n",
      "34                      Taiwan                           46.800000   \n",
      "35                    Thailand                           58.333333   \n",
      "36             Trinadad&Tobago                           40.000000   \n",
      "37               United-States                           45.505369   \n",
      "38                     Vietnam                           39.200000   \n",
      "39                  Yugoslavia                           49.500000   \n",
      "40          Holand-Netherlands                                 NaN   \n",
      "41  Outlying-US(Guam-USVI-etc)                                 NaN   \n",
      "\n",
      "    average_hours_per_week_low_income  \n",
      "0                           40.164760  \n",
      "1                           41.416667  \n",
      "2                           37.914634  \n",
      "3                           37.381818  \n",
      "4                           38.684211  \n",
      "5                           37.985714  \n",
      "6                           42.338235  \n",
      "7                           38.041667  \n",
      "8                           36.030928  \n",
      "9                           40.483333  \n",
      "10                          41.058824  \n",
      "11                          39.139785  \n",
      "12                          41.809524  \n",
      "13                          39.360656  \n",
      "14                          36.325000  \n",
      "15                          34.333333  \n",
      "16                          39.142857  \n",
      "17                          31.300000  \n",
      "18                          38.233333  \n",
      "19                          41.440000  \n",
      "20                          40.947368  \n",
      "21                          39.625000  \n",
      "22                          38.239437  \n",
      "23                          41.000000  \n",
      "24                          40.375000  \n",
      "25                          40.003279  \n",
      "26                          36.093750  \n",
      "27                          35.068966  \n",
      "28                          38.065693  \n",
      "29                          38.166667  \n",
      "30                          41.939394  \n",
      "31                          38.470588  \n",
      "32                          39.444444  \n",
      "33                          40.156250  \n",
      "34                          33.774194  \n",
      "35                          42.866667  \n",
      "36                          37.058824  \n",
      "37                          38.799127  \n",
      "38                          37.193548  \n",
      "39                          41.600000  \n",
      "40                          40.000000  \n",
      "41                          41.857143  \n"
     ]
    }
   ],
   "source": [
    "import pandas as pd\n",
    "\n",
    "people_high_income = data['salary'] == '>50K'\n",
    "people_low_income = data['salary'] == '<=50K'\n",
    "\n",
    "average_working_hours_by_country_high_income = data[people_high_income].groupby('native-country')[\n",
    "    'hours-per-week'].mean().reset_index(name='average_hours_per_week_high_income')\n",
    "\n",
    "average_working_hours_by_country_low_income = data[people_low_income].groupby('native-country')[\n",
    "    'hours-per-week'].mean().reset_index(name='average_hours_per_week_low_income')\n",
    "\n",
    "result_df = pd.merge(average_working_hours_by_country_high_income, average_working_hours_by_country_low_income,\n",
    "                     on='native-country', how='outer')\n",
    "\n",
    "print(result_df)\n",
    "\n"
   ]
  },
  {
   "cell_type": "markdown",
   "metadata": {},
   "source": [
    "**11.Сгруппируйте людей по возрастным группам *young*, *adult*, *retiree*, где:**\n",
    "* *young* соответствует 16-35 лет\n",
    "* *adult* - 35-70 лет\n",
    "* *retiree* - 70-100 лет\n",
    "\n",
    "**Проставьте название соответсвтуещей группы для каждого человека в новой колонке AgeGroup**"
   ]
  },
  {
   "cell_type": "code",
   "execution_count": 56,
   "metadata": {
    "scrolled": true
   },
   "outputs": [
    {
     "data": {
      "text/html": [
       "<div>\n",
       "<style scoped>\n",
       "    .dataframe tbody tr th:only-of-type {\n",
       "        vertical-align: middle;\n",
       "    }\n",
       "\n",
       "    .dataframe tbody tr th {\n",
       "        vertical-align: top;\n",
       "    }\n",
       "\n",
       "    .dataframe thead th {\n",
       "        text-align: right;\n",
       "    }\n",
       "</style>\n",
       "<table border=\"1\" class=\"dataframe\">\n",
       "  <thead>\n",
       "    <tr style=\"text-align: right;\">\n",
       "      <th></th>\n",
       "      <th>age</th>\n",
       "      <th>workclass</th>\n",
       "      <th>fnlwgt</th>\n",
       "      <th>education</th>\n",
       "      <th>education-num</th>\n",
       "      <th>marital-status</th>\n",
       "      <th>occupation</th>\n",
       "      <th>relationship</th>\n",
       "      <th>race</th>\n",
       "      <th>sex</th>\n",
       "      <th>capital-gain</th>\n",
       "      <th>capital-loss</th>\n",
       "      <th>hours-per-week</th>\n",
       "      <th>native-country</th>\n",
       "      <th>salary</th>\n",
       "      <th>AgeGroup</th>\n",
       "    </tr>\n",
       "  </thead>\n",
       "  <tbody>\n",
       "    <tr>\n",
       "      <th>0</th>\n",
       "      <td>39</td>\n",
       "      <td>State-gov</td>\n",
       "      <td>77516</td>\n",
       "      <td>Bachelors</td>\n",
       "      <td>13</td>\n",
       "      <td>Never-married</td>\n",
       "      <td>Adm-clerical</td>\n",
       "      <td>Not-in-family</td>\n",
       "      <td>White</td>\n",
       "      <td>Male</td>\n",
       "      <td>2174</td>\n",
       "      <td>0</td>\n",
       "      <td>40</td>\n",
       "      <td>United-States</td>\n",
       "      <td>&lt;=50K</td>\n",
       "      <td>adult</td>\n",
       "    </tr>\n",
       "    <tr>\n",
       "      <th>1</th>\n",
       "      <td>50</td>\n",
       "      <td>Self-emp-not-inc</td>\n",
       "      <td>83311</td>\n",
       "      <td>Bachelors</td>\n",
       "      <td>13</td>\n",
       "      <td>Married-civ-spouse</td>\n",
       "      <td>Exec-managerial</td>\n",
       "      <td>Husband</td>\n",
       "      <td>White</td>\n",
       "      <td>Male</td>\n",
       "      <td>0</td>\n",
       "      <td>0</td>\n",
       "      <td>13</td>\n",
       "      <td>United-States</td>\n",
       "      <td>&lt;=50K</td>\n",
       "      <td>adult</td>\n",
       "    </tr>\n",
       "    <tr>\n",
       "      <th>2</th>\n",
       "      <td>38</td>\n",
       "      <td>Private</td>\n",
       "      <td>215646</td>\n",
       "      <td>HS-grad</td>\n",
       "      <td>9</td>\n",
       "      <td>Divorced</td>\n",
       "      <td>Handlers-cleaners</td>\n",
       "      <td>Not-in-family</td>\n",
       "      <td>White</td>\n",
       "      <td>Male</td>\n",
       "      <td>0</td>\n",
       "      <td>0</td>\n",
       "      <td>40</td>\n",
       "      <td>United-States</td>\n",
       "      <td>&lt;=50K</td>\n",
       "      <td>adult</td>\n",
       "    </tr>\n",
       "    <tr>\n",
       "      <th>3</th>\n",
       "      <td>53</td>\n",
       "      <td>Private</td>\n",
       "      <td>234721</td>\n",
       "      <td>11th</td>\n",
       "      <td>7</td>\n",
       "      <td>Married-civ-spouse</td>\n",
       "      <td>Handlers-cleaners</td>\n",
       "      <td>Husband</td>\n",
       "      <td>Black</td>\n",
       "      <td>Male</td>\n",
       "      <td>0</td>\n",
       "      <td>0</td>\n",
       "      <td>40</td>\n",
       "      <td>United-States</td>\n",
       "      <td>&lt;=50K</td>\n",
       "      <td>adult</td>\n",
       "    </tr>\n",
       "    <tr>\n",
       "      <th>4</th>\n",
       "      <td>28</td>\n",
       "      <td>Private</td>\n",
       "      <td>338409</td>\n",
       "      <td>Bachelors</td>\n",
       "      <td>13</td>\n",
       "      <td>Married-civ-spouse</td>\n",
       "      <td>Prof-specialty</td>\n",
       "      <td>Wife</td>\n",
       "      <td>Black</td>\n",
       "      <td>Female</td>\n",
       "      <td>0</td>\n",
       "      <td>0</td>\n",
       "      <td>40</td>\n",
       "      <td>Cuba</td>\n",
       "      <td>&lt;=50K</td>\n",
       "      <td>young</td>\n",
       "    </tr>\n",
       "  </tbody>\n",
       "</table>\n",
       "</div>"
      ],
      "text/plain": [
       "   age         workclass  fnlwgt  education  education-num  \\\n",
       "0   39         State-gov   77516  Bachelors             13   \n",
       "1   50  Self-emp-not-inc   83311  Bachelors             13   \n",
       "2   38           Private  215646    HS-grad              9   \n",
       "3   53           Private  234721       11th              7   \n",
       "4   28           Private  338409  Bachelors             13   \n",
       "\n",
       "       marital-status         occupation   relationship   race     sex  \\\n",
       "0       Never-married       Adm-clerical  Not-in-family  White    Male   \n",
       "1  Married-civ-spouse    Exec-managerial        Husband  White    Male   \n",
       "2            Divorced  Handlers-cleaners  Not-in-family  White    Male   \n",
       "3  Married-civ-spouse  Handlers-cleaners        Husband  Black    Male   \n",
       "4  Married-civ-spouse     Prof-specialty           Wife  Black  Female   \n",
       "\n",
       "   capital-gain  capital-loss  hours-per-week native-country salary AgeGroup  \n",
       "0          2174             0              40  United-States  <=50K    adult  \n",
       "1             0             0              13  United-States  <=50K    adult  \n",
       "2             0             0              40  United-States  <=50K    adult  \n",
       "3             0             0              40  United-States  <=50K    adult  \n",
       "4             0             0              40           Cuba  <=50K    young  "
      ]
     },
     "execution_count": 56,
     "metadata": {},
     "output_type": "execute_result"
    }
   ],
   "source": [
    "age_bins = [16, 35, 70, 100]\n",
    "age_labels = ['young', 'adult', 'retiree']\n",
    "data['AgeGroup'] = pd.cut(data['age'], bins=age_bins, labels=age_labels, right=False)\n",
    "data.head()"
   ]
  },
  {
   "cell_type": "markdown",
   "metadata": {},
   "source": [
    "**12-13. Определите количество зарабатывающих >50K в каждой из возрастных групп (колонка AgeGroup), а также выведите название возрастной группы, в которой чаще зарабатывают больше 50К (>50K)**"
   ]
  },
  {
   "cell_type": "code",
   "execution_count": 57,
   "metadata": {},
   "outputs": [
    {
     "name": "stdout",
     "output_type": "stream",
     "text": [
      "AgeGroup\n",
      "young      1488\n",
      "adult      6240\n",
      "retiree     113\n",
      "dtype: int64\n",
      "\n",
      "Возрастная группа, в которой чаще зарабатывают >50K: adult\n"
     ]
    }
   ],
   "source": [
    "income_counts_by_age_group = data[data['salary'] == '>50K'].groupby('AgeGroup', observed=False).size()\n",
    "print(income_counts_by_age_group)\n",
    "\n",
    "most_common_income_group = income_counts_by_age_group.idxmax()\n",
    "print(f\"\\nВозрастная группа, в которой чаще зарабатывают >50K: {most_common_income_group}\")"
   ]
  },
  {
   "cell_type": "markdown",
   "metadata": {},
   "source": [
    "**14. Сгруппируйте людей по типу занятости (колонка occupation) и определите количество людей в каждой группе. После чего напишите функциюю фильтрации filter_func, которая будет возвращать только те группы, в которых средний возраст (колонка age) не больше 40 и в которых все работники отрабатывают более 5 часов в неделю (колонка hours-per-week)**"
   ]
  },
  {
   "cell_type": "code",
   "execution_count": 58,
   "metadata": {
    "scrolled": true
   },
   "outputs": [
    {
     "name": "stdout",
     "output_type": "stream",
     "text": [
      "Количество людей в каждой группе (по типу занятости):\n",
      "occupation\n",
      "?                    1843\n",
      "Adm-clerical         3770\n",
      "Armed-Forces            9\n",
      "Craft-repair         4099\n",
      "Exec-managerial      4066\n",
      "Farming-fishing       994\n",
      "Handlers-cleaners    1370\n",
      "Machine-op-inspct    2002\n",
      "Other-service        3295\n",
      "Priv-house-serv       149\n",
      "Prof-specialty       4140\n",
      "Protective-serv       649\n",
      "Sales                3650\n",
      "Tech-support          928\n",
      "Transport-moving     1597\n",
      "dtype: int64\n",
      "\n",
      "Группы, в которых средний возраст не больше 40 и все работники отрабатывают более 5 часов в неделю:\n",
      "occupation\n",
      "Armed-Forces    9\n",
      "dtype: int64\n"
     ]
    }
   ],
   "source": [
    "occupation_counts = data.groupby('occupation').size()\n",
    "print(\"Количество людей в каждой группе (по типу занятости):\")\n",
    "print(occupation_counts)\n",
    "\n",
    "def filter_func(group):\n",
    "    return (group['age'].mean() <= 40) and (group['hours-per-week'].min() > 5)\n",
    "\n",
    "filtered_groups = data.groupby('occupation').filter(filter_func)\n",
    "\n",
    "print(\"\\nГруппы, в которых средний возраст не больше 40 и все работники отрабатывают более 5 часов в неделю:\")\n",
    "print(filtered_groups.groupby('occupation').size())"
   ]
  }
 ],
 "metadata": {
  "anaconda-cloud": {},
  "kernelspec": {
   "display_name": "Python 3 (ipykernel)",
   "language": "python",
   "name": "python3"
  },
  "language_info": {
   "codemirror_mode": {
    "name": "ipython",
    "version": 3
   },
   "file_extension": ".py",
   "mimetype": "text/x-python",
   "name": "python",
   "nbconvert_exporter": "python",
   "pygments_lexer": "ipython3",
   "version": "3.10.12"
  }
 },
 "nbformat": 4,
 "nbformat_minor": 4
}
