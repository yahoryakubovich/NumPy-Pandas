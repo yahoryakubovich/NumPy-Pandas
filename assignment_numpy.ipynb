{
  "metadata": {
    "kernelspec": {
      "name": "python",
      "display_name": "Python (Pyodide)",
      "language": "python"
    },
    "language_info": {
      "codemirror_mode": {
        "name": "python",
        "version": 3
      },
      "file_extension": ".py",
      "mimetype": "text/x-python",
      "name": "python",
      "nbconvert_exporter": "python",
      "pygments_lexer": "ipython3",
      "version": "3.8"
    }
  },
  "nbformat_minor": 5,
  "nbformat": 4,
  "cells": [
    {
      "id": "d3df79dd",
      "cell_type": "markdown",
      "source": "## Упражнения по библиотеке Numpy",
      "metadata": {}
    },
    {
      "id": "76b9c43b",
      "cell_type": "code",
      "source": "import numpy as np",
      "metadata": {},
      "outputs": [],
      "execution_count": 1
    },
    {
      "id": "03727b7c",
      "cell_type": "markdown",
      "source": "**1.** Дан случайный массив, поменять знак у элементов, значения которых между 3 и 8",
      "metadata": {}
    },
    {
      "id": "b89a7523",
      "cell_type": "code",
      "source": "a = np.arange(0, 10)\na[(3 < a) & (a < 8)] *= -1\nprint(a)",
      "metadata": {},
      "outputs": [],
      "execution_count": 149
    },
    {
      "id": "5fa4abda",
      "cell_type": "markdown",
      "source": "**2.** Заменить максимальный элемент случайного массива на 0",
      "metadata": {}
    },
    {
      "id": "f2788a6e",
      "cell_type": "code",
      "source": "a = np.arange(0, 10)\na[(np.max(a))] = 0\nprint(a)",
      "metadata": {},
      "outputs": [],
      "execution_count": 150
    },
    {
      "id": "3cac656b",
      "cell_type": "markdown",
      "source": "**3.** Построить прямое произведение массивов (все комбинации с каждым элементом). На вход подается двумерный массив",
      "metadata": {}
    },
    {
      "id": "3396b764",
      "cell_type": "code",
      "source": "?",
      "metadata": {},
      "outputs": [],
      "execution_count": 151
    },
    {
      "id": "674c9354",
      "cell_type": "markdown",
      "source": "**4.** Даны 2 массива A (8x3) и B (2x2). Найти строки в A, которые содержат элементы из каждой строки в B, независимо от порядка элементов в B",
      "metadata": {}
    },
    {
      "id": "cb664782",
      "cell_type": "code",
      "source": "a = np.random.randint(0, 5, (8, 3))\nprint(a)\nb = np.random.randint(0, 5, (2, 2))\nprint(b)\nc = (a[..., np.newaxis, np.newaxis] == b)\nrows = (c.sum(axis=(1, 2, 3)) >= b.shape[1]).nonzero()[0]\nprint(rows)",
      "metadata": {},
      "outputs": [],
      "execution_count": 152
    },
    {
      "id": "fa46533b",
      "cell_type": "markdown",
      "source": "**5.** Дана 10x3 матрица, найти строки из неравных значений (например строка [2,2,3] остается, строка [3,3,3] удаляется)",
      "metadata": {}
    },
    {
      "id": "fa545b23",
      "cell_type": "code",
      "source": "a = np.random.randint(0, 9, (10, 3))\nprint(a)\nunequal_rows = a[~np.all(a[:, 0][:, np.newaxis] == a[:, 1:], axis=1)]\nprint(unequal_rows)",
      "metadata": {},
      "outputs": [],
      "execution_count": 153
    },
    {
      "id": "28f0d116",
      "cell_type": "markdown",
      "source": "**6.** Дан двумерный массив. Удалить те строки, которые повторяются",
      "metadata": {}
    },
    {
      "id": "83d2c0b7",
      "cell_type": "code",
      "source": "a = np.array([[1, 2, 3],\n              [4, 5, 6],\n              [1, 2, 3],\n              [7, 8, 9],\n              [4, 5, 6]])\n\na = np.unique(a, axis=0)\nprint(a)",
      "metadata": {},
      "outputs": [],
      "execution_count": 154
    },
    {
      "id": "6daa9e37",
      "cell_type": "markdown",
      "source": "______\n______",
      "metadata": {}
    },
    {
      "id": "cfbfcaff",
      "cell_type": "markdown",
      "source": "Для каждой из следующих задач (1-5) нужно привести 2 реализации – одна без использования numpy (cчитайте, что там, где на входе или выходе должны быть numpy array, будут просто списки), а вторая полностью векторизованная с использованием numpy (без использования питоновских циклов/map/list comprehension).\n\n\n__Замечание 1.__ Можно считать, что все указанные объекты непустые (к примеру, в __задаче 1__ на диагонали матрицы есть ненулевые элементы).\n\n__Замечание 2.__ Для большинства задач решение занимает не больше 1-2 строк.",
      "metadata": {}
    },
    {
      "id": "673cac7f",
      "cell_type": "markdown",
      "source": "___",
      "metadata": {}
    },
    {
      "id": "ca6f585e",
      "cell_type": "markdown",
      "source": "* __Задача 1__: Подсчитать произведение ненулевых элементов на диагонали прямоугольной матрицы.  \n Например, для X = np.array([[1, 0, 1], [2, 0, 2], [3, 0, 3], [4, 4, 4]]) ответ 3.",
      "metadata": {}
    },
    {
      "id": "065862fc",
      "cell_type": "code",
      "source": "a = [[1, 0, 1], [2, 0, 2], [3, 0, 3], [4, 4, 4]]\nresult = 1\nfor i in range(min(len(a), len(a[0]))):\n    if a[i][i] != 0:\n        result *= a[i][i]\nprint(result)\n\na = np.array([[1, 0, 1], [2, 0, 2], [3, 0, 3], [4, 4, 4]])\nresult = np.prod(np.diagonal(a)[np.diagonal(a) != 0])\nprint(result)",
      "metadata": {},
      "outputs": [],
      "execution_count": 156
    },
    {
      "id": "9fc51d41",
      "cell_type": "markdown",
      "source": "* __Задача 2__: Даны два вектора x и y. Проверить, задают ли они одно и то же мультимножество.  \n  Например, для x = np.array([1, 2, 2, 4]), y = np.array([4, 2, 1, 2]) ответ True.",
      "metadata": {}
    },
    {
      "id": "a809e02f",
      "cell_type": "code",
      "source": "def multi_py(x, y):\n    return sorted(x) == sorted(y)\n\n\nx = [1, 2, 2, 4]\ny = [4, 2, 1, 2]\n\nresult = multi_py(x, y)\nprint(result)\n\ndef multi_np(x, y):\n    return np.array_equal(np.sort(x), np.sort(y))\n\n\nx = np.array([1, 2, 2, 4])\ny = np.array([4, 2, 1, 2])\n\nresult = multi_np(x, y)\nprint(result)",
      "metadata": {},
      "outputs": [],
      "execution_count": 157
    },
    {
      "id": "b9c185c7",
      "cell_type": "markdown",
      "source": "* __Задача 3__: Найти максимальный элемент в векторе x среди элементов, перед которыми стоит ноль. \n Например, для x = np.array([6, 2, 0, 3, 0, 0, 5, 7, 0]) ответ 5.",
      "metadata": {}
    },
    {
      "id": "b57df008",
      "cell_type": "code",
      "source": "x = np.array([6, 2, 0, 3, 0, 0, 5, 7, 0])\nzero = x == 0\nprint(x[1:][zero[:-1]].max())",
      "metadata": {},
      "outputs": [],
      "execution_count": 158
    },
    {
      "id": "480be4ce",
      "cell_type": "markdown",
      "source": "* __Задача 4__: Реализовать кодирование длин серий (Run-length encoding). Для некоторого вектора x необходимо вернуть кортеж из двух векторов одинаковой длины. Первый содержит числа, а второй - сколько раз их нужно повторить.  \n Например, для x = np.array([2, 2, 2, 3, 3, 3, 5]) ответ (np.array([2, 3, 5]), np.array([3, 3, 1])).",
      "metadata": {}
    },
    {
      "id": "3c592124",
      "cell_type": "code",
      "source": "x = np.array([2, 2, 2, 3, 3, 3, 5])\nunique_values, counts = np.unique(x, return_counts=True)\nprint([unique_values, counts])\n\n\ndef count_digits_python(x):\n    unique_values = []\n    counts = []\n\n    for num in x:\n        if isinstance(num, int):\n            for digit in str(num):\n                if digit not in unique_values:\n                    unique_values.append(digit)\n                    counts.append(1)\n                else:\n                    index = unique_values.index(digit)\n                    counts[index] += 1\n\n    return tuple(unique_values), tuple(counts)\n\n\nx = [2, 2, 2, 3, 3, 3, 5]\nresult = count_digits_python(x)\nprint(result)",
      "metadata": {},
      "outputs": [],
      "execution_count": 159
    },
    {
      "id": "077532ec",
      "cell_type": "markdown",
      "source": "* __Задача 5__: Даны две выборки объектов - X и Y. Вычислить матрицу евклидовых расстояний между объектами. Сравните с функцией scipy.spatial.distance.cdist по скорости работы.",
      "metadata": {}
    },
    {
      "id": "1e807797",
      "cell_type": "code",
      "source": "from scipy.spatial.distance import cdist\nimport time\n\ndef manual_euclidean_distances(X, Y):\n    distances = np.sqrt(np.sum((X[:, np.newaxis] - Y) ** 2, axis=-1))\n    return distances\n\nX = np.random.rand(100, 3)\nY = np.random.rand(50, 3)\n\nstart_time_manual = time.time()\nmanual_distances = manual_euclidean_distances(X, Y)\nend_time_manual = time.time()\nprint(\"Время manual_euclidean_distances:\", end_time_manual - start_time_manual)\n\nstart_time_cdist = time.time()\ncdist_distances = cdist(X, Y)\nend_time_cdist = time.time()\nprint(\"Время cdist:\", end_time_cdist - start_time_cdist)\n\nprint(\"Совпадают ли результаты:\", np.allclose(manual_distances, cdist_distances))",
      "metadata": {},
      "outputs": [],
      "execution_count": 160
    },
    {
      "id": "973e8064",
      "cell_type": "markdown",
      "source": "_______\n________",
      "metadata": {}
    },
    {
      "id": "1104acb7",
      "cell_type": "markdown",
      "source": "* #### __Задача 6__: CrunchieMunchies __*__\n\nВы работаете в отделе маркетинга пищевой компании MyCrunch, которая разрабатывает новый вид вкусных, полезных злаков под названием **CrunchieMunchies**.\n\nВы хотите продемонстрировать потребителям, насколько полезны ваши хлопья по сравнению с другими ведущими брендами, поэтому вы собрали данные о питании нескольких разных конкурентов.\n\nВаша задача - использовать вычисления Numpy для анализа этих данных и доказать, что ваши **СrunchieMunchies** - самый здоровый выбор для потребителей.\n",
      "metadata": {}
    },
    {
      "id": "10a77f8d",
      "cell_type": "code",
      "source": "import numpy as np",
      "metadata": {},
      "outputs": [],
      "execution_count": 77
    },
    {
      "id": "ab87cb03",
      "cell_type": "markdown",
      "source": "1. Просмотрите файл cereal.csv. Этот файл содержит количества калорий для различных марок хлопьев. Загрузите данные из файла и сохраните их как calorie_stats.",
      "metadata": {}
    },
    {
      "id": "9681ebf2",
      "cell_type": "code",
      "source": "calorie_stats = np.loadtxt(\"./data/cereal.csv\", delimiter=\",\")\ncalorie_stats",
      "metadata": {},
      "outputs": [
        {
          "data": {
            "text/plain": [
              "array([ 70., 120.,  70.,  50., 110., 110., 110., 130.,  90.,  90., 120.,\n",
              "       110., 120., 110., 110., 110., 100., 110., 110., 110., 100., 110.,\n",
              "       100., 100., 110., 110., 100., 120., 120., 110., 100., 110., 100.,\n",
              "       110., 120., 120., 110., 110., 110., 140., 110., 100., 110., 100.,\n",
              "       150., 150., 160., 100., 120., 140.,  90., 130., 120., 100.,  50.,\n",
              "        50., 100., 100., 120., 100.,  90., 110., 110.,  80.,  90.,  90.,\n",
              "       110., 110.,  90., 110., 140., 100., 110., 110., 100., 100., 110.])"
            ]
          },
          "execution_count": 170,
          "metadata": {},
          "output_type": "execute_result"
        }
      ],
      "execution_count": 170
    },
    {
      "id": "139cfbd8",
      "cell_type": "markdown",
      "source": "2. В одной порции CrunchieMunchies содержится 60 калорий. Насколько выше среднее количество калорий у ваших конкурентов?\n\nСохраните ответ в переменной average_calories и распечатайте переменную в терминале",
      "metadata": {}
    },
    {
      "id": "7036d240",
      "cell_type": "code",
      "source": "average_calories = np.average(calorie_stats, axis=0) - 60\nprint(f\"Среднее количество калорий у конкурентов выше на {round(average_calories)} кал\")",
      "metadata": {},
      "outputs": [],
      "execution_count": 161
    },
    {
      "id": "b2ddb4cd",
      "cell_type": "markdown",
      "source": "3. Корректно ли среднее количество калорий отражает распределение набора данных? Давайте отсортируем данные и посмотрим.\n\nОтсортируйте данные и сохраните результат в переменной calorie_stats_sorted. Распечатайте отсортированную информацию",
      "metadata": {}
    },
    {
      "id": "46eeb4ed",
      "cell_type": "code",
      "source": "calorie_stats_sorted = np.sort(calorie_stats)\nprint(calorie_stats_sorted)",
      "metadata": {},
      "outputs": [],
      "execution_count": 162
    },
    {
      "id": "4dc74116",
      "cell_type": "markdown",
      "source": "4. Похоже, что большинство значений выше среднего. Давайте посмотрим, является ли медиана наиболее корректным показателем набора данных.\n\nВычислите медиану набора данных и сохраните свой ответ в median_calories. Выведите медиану, чтобы вы могли видеть, как она сравнивается со средним значением.",
      "metadata": {}
    },
    {
      "id": "b56627c3",
      "cell_type": "code",
      "source": "median_calories = np.median(calorie_stats_sorted, axis=0)\nprint(median_calories)",
      "metadata": {},
      "outputs": [],
      "execution_count": 163
    },
    {
      "id": "a63ab72f",
      "cell_type": "markdown",
      "source": "5. В то время как медиана показывает, что по крайней мере половина наших значений составляет более 100 калорий, было бы более впечатляюще показать, что значительная часть конкурентов имеет более высокое количество калорий, чем CrunchieMunchies.\n\nРассчитайте различные процентили и распечатайте их, пока не найдете наименьший процентиль, превышающий 60 калорий. Сохраните это значение в переменной nth_percentile.",
      "metadata": {}
    },
    {
      "id": "fe80ce03",
      "cell_type": "code",
      "source": "percentiles = np.percentile(calorie_stats_sorted, np.arange(0, 101, 10))\n\nnth_percentile = next(p for p in percentiles if p > 60)\n\nprint(f\"Наименьший процентиль, превышающий 60 калорий: {nth_percentile}\")",
      "metadata": {},
      "outputs": [],
      "execution_count": 164
    },
    {
      "id": "a2a3c5aa",
      "cell_type": "markdown",
      "source": "6. Хотя процентиль показывает нам, что у большинства конкурентов количество калорий намного выше, это неудобная концепция для использования в маркетинговых материалах.\n\nВместо этого давайте подсчитаем процент хлопьев, в которых содержится более 60 калорий на порцию. Сохраните свой ответ в переменной more_calories и распечатайте его",
      "metadata": {}
    },
    {
      "id": "ade0f6ea",
      "cell_type": "code",
      "source": "more_calories = np.mean(calorie_stats_sorted > 60) * 100\nprint(f\"Процент хлопьев с более чем 60 калориями: {round(more_calories)}%\")",
      "metadata": {},
      "outputs": [],
      "execution_count": 165
    },
    {
      "id": "1735d65b",
      "cell_type": "markdown",
      "source": "7. Это действительно высокий процент. Это будет очень полезно, когда мы будем продвигать CrunchieMunchies. Но один вопрос заключается в том, насколько велики различия в наборе данных? Можем ли мы сделать обобщение, что в большинстве злаков содержится около 100 калорий или разброс еще больше?\n\nРассчитайте величину отклонения, найдя стандартное отклонение, Сохраните свой ответ в calorie_std и распечатайте на терминале. Как мы можем включить эту ценность в наш анализ?",
      "metadata": {}
    },
    {
      "id": "85c8df1f",
      "cell_type": "code",
      "source": "calorie_std = np.std(calorie_stats_sorted)\n\nprint(f\"Стандартное отклонение количества калорий: {round(calorie_std)}\")",
      "metadata": {},
      "outputs": [],
      "execution_count": 166
    },
    {
      "id": "037455c5",
      "cell_type": "markdown",
      "source": "8. Напишите короткий абзац, в котором кратко изложите свои выводы и то, как, по вашему мнению, эти данные могут быть использованы в интересах Mycrunch при маркетинге CrunchieMunchies.",
      "metadata": {}
    },
    {
      "id": "e0f630f1-bc2b-4a04-ba2b-7724bae55cd8",
      "cell_type": "markdown",
      "source": "Если наша задача - использовать вычисления Numpy для анализа этих данных и доказать, что **СrunchieMunchies** - самый здоровый выбор для потребителей.\nИспользуя наш анализ мы можем подчеркнуть преимущества CrunchieMunchies среди конкурентов.\n1. В одной порции CrunchieMunchies содержится 60 калорий, в отличие от конкурентов, где среднее количество калорий в одной порции выше на 47 кал\n2. У большинства конкурентов среднее количество калорий больше среднего, а именно около 100 и более\n3. Процент хлопьев с более чем 60 калориями равен 96%, что выделяет нас на рынке",
      "metadata": {}
    }
  ]
}