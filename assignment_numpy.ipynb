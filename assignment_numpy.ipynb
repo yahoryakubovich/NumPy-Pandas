{
 "cells": [
  {
   "cell_type": "markdown",
   "id": "d3df79dd",
   "metadata": {},
   "source": [
    "## Упражнения по библиотеке Numpy"
   ]
  },
  {
   "cell_type": "code",
   "execution_count": 33,
   "id": "76b9c43b",
   "metadata": {},
   "outputs": [],
   "source": [
    "import numpy as np"
   ]
  },
  {
   "cell_type": "markdown",
   "id": "03727b7c",
   "metadata": {},
   "source": [
    "**1.** Дан случайный массив, поменять знак у элементов, значения которых между 3 и 8"
   ]
  },
  {
   "cell_type": "code",
   "execution_count": 34,
   "id": "b89a7523",
   "metadata": {},
   "outputs": [
    {
     "name": "stdout",
     "output_type": "stream",
     "text": [
      "[ 0  1  2  3 -4 -5 -6 -7  8  9]\n"
     ]
    }
   ],
   "source": [
    "a = np.arange(0, 10)\n",
    "a[(3 < a) & (a < 8)] *= -1\n",
    "print(a)"
   ]
  },
  {
   "cell_type": "markdown",
   "id": "5fa4abda",
   "metadata": {},
   "source": [
    "**2.** Заменить максимальный элемент случайного массива на 0"
   ]
  },
  {
   "cell_type": "code",
   "execution_count": 35,
   "id": "f2788a6e",
   "metadata": {},
   "outputs": [
    {
     "name": "stdout",
     "output_type": "stream",
     "text": [
      "[0 1 2 3 4 5 6 7 8 0]\n"
     ]
    }
   ],
   "source": [
    "a = np.arange(0, 10)\n",
    "a[(np.max(a))] = 0\n",
    "print(a)"
   ]
  },
  {
   "cell_type": "markdown",
   "id": "3cac656b",
   "metadata": {},
   "source": [
    "**3.** Построить прямое произведение массивов (все комбинации с каждым элементом). На вход подается двумерный массив"
   ]
  },
  {
   "cell_type": "code",
   "execution_count": 36,
   "id": "3396b764",
   "metadata": {},
   "outputs": [
    {
     "name": "stdout",
     "output_type": "stream",
     "text": [
      "[['1' 'a']\n",
      " ['2' 'a']\n",
      " ['3' 'a']\n",
      " ['1' 'b']\n",
      " ['2' 'b']\n",
      " ['3' 'b']]\n"
     ]
    }
   ],
   "source": [
    "import numpy as np\n",
    "\n",
    "def product(a, b):\n",
    "    a, b = np.meshgrid(a, b)\n",
    "    result = np.column_stack((a.ravel(), b.ravel()))\n",
    "    return result\n",
    "\n",
    "a = np.array([1, 2, 3])\n",
    "b = np.array(['a', 'b'])\n",
    "\n",
    "result_product = product(a, b)\n",
    "\n",
    "print(result_product)"
   ]
  },
  {
   "cell_type": "markdown",
   "id": "674c9354",
   "metadata": {},
   "source": [
    "**4.** Даны 2 массива A (8x3) и B (2x2). Найти строки в A, которые содержат элементы из каждой строки в B, независимо от порядка элементов в B"
   ]
  },
  {
   "cell_type": "code",
   "execution_count": 37,
   "id": "cb664782",
   "metadata": {},
   "outputs": [
    {
     "name": "stdout",
     "output_type": "stream",
     "text": [
      "[[1 2 2]\n",
      " [4 2 3]\n",
      " [3 0 4]\n",
      " [0 1 4]\n",
      " [4 0 0]\n",
      " [3 3 2]\n",
      " [2 0 0]\n",
      " [4 1 0]]\n",
      "[[2 3]\n",
      " [1 0]]\n",
      "[0 1 2 3 4 5 6 7]\n"
     ]
    }
   ],
   "source": [
    "a = np.random.randint(0, 5, (8, 3))\n",
    "print(a)\n",
    "b = np.random.randint(0, 5, (2, 2))\n",
    "print(b)\n",
    "c = (a[..., np.newaxis, np.newaxis] == b)\n",
    "rows = (c.sum(axis=(1, 2, 3)) >= b.shape[1]).nonzero()[0]\n",
    "print(rows)"
   ]
  },
  {
   "cell_type": "markdown",
   "id": "fa46533b",
   "metadata": {},
   "source": [
    "**5.** Дана 10x3 матрица, найти строки из неравных значений (например строка [2,2,3] остается, строка [3,3,3] удаляется)"
   ]
  },
  {
   "cell_type": "code",
   "execution_count": 38,
   "id": "fa545b23",
   "metadata": {},
   "outputs": [
    {
     "name": "stdout",
     "output_type": "stream",
     "text": [
      "[[3 3 7]\n",
      " [0 0 1]\n",
      " [7 0 5]\n",
      " [1 1 5]\n",
      " [0 1 2]\n",
      " [0 3 2]\n",
      " [7 6 7]\n",
      " [7 8 7]\n",
      " [8 2 3]\n",
      " [2 2 2]]\n",
      "[[3 3 7]\n",
      " [0 0 1]\n",
      " [7 0 5]\n",
      " [1 1 5]\n",
      " [0 1 2]\n",
      " [0 3 2]\n",
      " [7 6 7]\n",
      " [7 8 7]\n",
      " [8 2 3]]\n"
     ]
    }
   ],
   "source": [
    "a = np.random.randint(0, 9, (10, 3))\n",
    "print(a)\n",
    "unequal_rows = a[~np.all(a[:, 0][:, np.newaxis] == a[:, 1:], axis=1)]\n",
    "print(unequal_rows)"
   ]
  },
  {
   "cell_type": "markdown",
   "id": "28f0d116",
   "metadata": {},
   "source": [
    "**6.** Дан двумерный массив. Удалить те строки, которые повторяются"
   ]
  },
  {
   "cell_type": "code",
   "execution_count": 39,
   "id": "83d2c0b7",
   "metadata": {},
   "outputs": [
    {
     "name": "stdout",
     "output_type": "stream",
     "text": [
      "[[1 2 3]\n",
      " [4 5 6]\n",
      " [7 8 9]]\n"
     ]
    }
   ],
   "source": [
    "a = np.array([[1, 2, 3],\n",
    "              [4, 5, 6],\n",
    "              [1, 2, 3],\n",
    "              [7, 8, 9],\n",
    "              [4, 5, 6]])\n",
    "\n",
    "a = np.unique(a, axis=0)\n",
    "print(a)"
   ]
  },
  {
   "cell_type": "markdown",
   "id": "cfbfcaff",
   "metadata": {},
   "source": [
    "Для каждой из следующих задач (1-5) нужно привести 2 реализации – одна без использования numpy (cчитайте, что там, где на входе или выходе должны быть numpy array, будут просто списки), а вторая полностью векторизованная с использованием numpy (без использования питоновских циклов/map/list comprehension).\n",
    "\n",
    "\n",
    "__Замечание 1.__ Можно считать, что все указанные объекты непустые (к примеру, в __задаче 1__ на диагонали матрицы есть ненулевые элементы).\n",
    "\n",
    "__Замечание 2.__ Для большинства задач решение занимает не больше 1-2 строк."
   ]
  },
  {
   "cell_type": "markdown",
   "id": "ca6f585e",
   "metadata": {},
   "source": [
    "* __Задача 1__: Подсчитать произведение ненулевых элементов на диагонали прямоугольной матрицы.  \n",
    " Например, для X = np.array([[1, 0, 1], [2, 0, 2], [3, 0, 3], [4, 4, 4]]) ответ 3."
   ]
  },
  {
   "cell_type": "code",
   "execution_count": 40,
   "id": "065862fc",
   "metadata": {},
   "outputs": [
    {
     "name": "stdout",
     "output_type": "stream",
     "text": [
      "3\n",
      "3\n"
     ]
    }
   ],
   "source": [
    "a = [[1, 0, 1], [2, 0, 2], [3, 0, 3], [4, 4, 4]]\n",
    "result = 1\n",
    "for i in range(min(len(a), len(a[0]))):\n",
    "    if a[i][i] != 0:\n",
    "        result *= a[i][i]\n",
    "print(result)\n",
    "\n",
    "a = np.array([[1, 0, 1], [2, 0, 2], [3, 0, 3], [4, 4, 4]])\n",
    "result = np.prod(np.diagonal(a)[np.diagonal(a) != 0])\n",
    "print(result)"
   ]
  },
  {
   "cell_type": "markdown",
   "id": "9fc51d41",
   "metadata": {},
   "source": [
    "* __Задача 2__: Даны два вектора x и y. Проверить, задают ли они одно и то же мультимножество.  \n",
    "  Например, для x = np.array([1, 2, 2, 4]), y = np.array([4, 2, 1, 2]) ответ True."
   ]
  },
  {
   "cell_type": "code",
   "execution_count": 41,
   "id": "a809e02f",
   "metadata": {},
   "outputs": [
    {
     "name": "stdout",
     "output_type": "stream",
     "text": [
      "True\n",
      "True\n"
     ]
    }
   ],
   "source": [
    "def multi_py(x, y):\n",
    "    return sorted(x) == sorted(y)\n",
    "\n",
    "\n",
    "x = [1, 2, 2, 4]\n",
    "y = [4, 2, 1, 2]\n",
    "\n",
    "result = multi_py(x, y)\n",
    "print(result)\n",
    "\n",
    "def multi_np(x, y):\n",
    "    return np.array_equal(np.sort(x), np.sort(y))\n",
    "\n",
    "\n",
    "x = np.array([1, 2, 2, 4])\n",
    "y = np.array([4, 2, 1, 2])\n",
    "\n",
    "result = multi_np(x, y)\n",
    "print(result)"
   ]
  },
  {
   "cell_type": "markdown",
   "id": "b9c185c7",
   "metadata": {},
   "source": [
    "* __Задача 3__: Найти максимальный элемент в векторе x среди элементов, перед которыми стоит ноль. \n",
    " Например, для x = np.array([6, 2, 0, 3, 0, 0, 5, 7, 0]) ответ 5."
   ]
  },
  {
   "cell_type": "code",
   "execution_count": 42,
   "id": "b57df008",
   "metadata": {},
   "outputs": [
    {
     "name": "stdout",
     "output_type": "stream",
     "text": [
      "5\n",
      "5\n"
     ]
    }
   ],
   "source": [
    "x = np.array([6, 2, 0, 3, 0, 0, 5, 7, 0])\n",
    "zero = x == 0\n",
    "print(x[1:][zero[:-1]].max())\n",
    "\n",
    "def find_max_after_zero(arr):\n",
    "    max_after_zero = None\n",
    "    found_zero = False\n",
    "\n",
    "    for num in arr:\n",
    "        if found_zero:\n",
    "            if max_after_zero is None or num > max_after_zero:\n",
    "                max_after_zero = num\n",
    "\n",
    "        if num == 0:\n",
    "            found_zero = True\n",
    "        else:\n",
    "            found_zero = False\n",
    "\n",
    "    return max_after_zero\n",
    "\n",
    "x = [6, 2, 0, 3, 0, 0, 5, 7, 0]\n",
    "result = find_max_after_zero(x)\n",
    "\n",
    "print(result)\n"
   ]
  },
  {
   "cell_type": "markdown",
   "id": "480be4ce",
   "metadata": {},
   "source": [
    "* __Задача 4__: Реализовать кодирование длин серий (Run-length encoding). Для некоторого вектора x необходимо вернуть кортеж из двух векторов одинаковой длины. Первый содержит числа, а второй - сколько раз их нужно повторить.  \n",
    " Например, для x = np.array([2, 2, 2, 3, 3, 3, 5]) ответ (np.array([2, 3, 5]), np.array([3, 3, 1]))."
   ]
  },
  {
   "cell_type": "code",
   "execution_count": 43,
   "id": "3c592124",
   "metadata": {},
   "outputs": [
    {
     "name": "stdout",
     "output_type": "stream",
     "text": [
      "[array([2, 3, 5]), array([3, 3, 1])]\n",
      "(('2', '3', '5'), (3, 3, 1))\n"
     ]
    }
   ],
   "source": [
    "x = np.array([2, 2, 2, 3, 3, 3, 5])\n",
    "unique_values, counts = np.unique(x, return_counts=True)\n",
    "print([unique_values, counts])\n",
    "\n",
    "\n",
    "def count_digits_python(x):\n",
    "    unique_values = []\n",
    "    counts = []\n",
    "\n",
    "    for num in x:\n",
    "        if isinstance(num, int):\n",
    "            for digit in str(num):\n",
    "                if digit not in unique_values:\n",
    "                    unique_values.append(digit)\n",
    "                    counts.append(1)\n",
    "                else:\n",
    "                    index = unique_values.index(digit)\n",
    "                    counts[index] += 1\n",
    "\n",
    "    return tuple(unique_values), tuple(counts)\n",
    "\n",
    "\n",
    "x = [2, 2, 2, 3, 3, 3, 5]\n",
    "result = count_digits_python(x)\n",
    "print(result)"
   ]
  },
  {
   "cell_type": "markdown",
   "id": "077532ec",
   "metadata": {},
   "source": [
    "* __Задача 5__: Даны две выборки объектов - X и Y. Вычислить матрицу евклидовых расстояний между объектами. Сравните с функцией scipy.spatial.distance.cdist по скорости работы."
   ]
  },
  {
   "cell_type": "code",
   "execution_count": 44,
   "id": "1e807797",
   "metadata": {},
   "outputs": [
    {
     "name": "stdout",
     "output_type": "stream",
     "text": [
      "Время manual_euclidean_distances: 0.0003921985626220703\n",
      "Время cdist: 0.0002048015594482422\n",
      "Совпадают ли результаты: True\n",
      "Время manual_euclidean_distances: 0.003875732421875\n",
      "Время cdist: 0.00019288063049316406\n",
      "Совпадают ли результаты: True\n"
     ]
    }
   ],
   "source": [
    "from scipy.spatial.distance import cdist\n",
    "import random\n",
    "import time\n",
    "\n",
    "def manual_euclidean_distances(X, Y):\n",
    "    distances = np.sqrt(np.sum((X[:, np.newaxis] - Y) ** 2, axis=-1))\n",
    "    return distances\n",
    "\n",
    "X = np.random.rand(100, 3)\n",
    "Y = np.random.rand(50, 3)\n",
    "\n",
    "start_time_manual = time.time()\n",
    "manual_distances = manual_euclidean_distances(X, Y)\n",
    "end_time_manual = time.time()\n",
    "print(\"Время manual_euclidean_distances:\", end_time_manual - start_time_manual)\n",
    "\n",
    "start_time_cdist = time.time()\n",
    "cdist_distances = cdist(X, Y)\n",
    "end_time_cdist = time.time()\n",
    "print(\"Время cdist:\", end_time_cdist - start_time_cdist)\n",
    "\n",
    "print(\"Совпадают ли результаты:\", np.allclose(manual_distances, cdist_distances))\n",
    "\n",
    "import math\n",
    "from scipy.spatial.distance import cdist\n",
    "import time\n",
    "\n",
    "def manual_euclidean_distances(X, Y):\n",
    "    distances = []\n",
    "    for x in X:\n",
    "        row_distances = [math.sqrt(sum((xi - yi) ** 2 for xi, yi in zip(x, y))) for y in Y]\n",
    "        distances.append(row_distances)\n",
    "    return distances\n",
    "\n",
    "X = [[random.random() for _ in range(3)] for _ in range(100)]\n",
    "Y = [[random.random() for _ in range(3)] for _ in range(50)]\n",
    "\n",
    "start_time_manual = time.time()\n",
    "manual_distances = manual_euclidean_distances(X, Y)\n",
    "end_time_manual = time.time()\n",
    "print(\"Время manual_euclidean_distances:\", end_time_manual - start_time_manual)\n",
    "\n",
    "start_time_cdist = time.time()\n",
    "cdist_distances = cdist(X, Y)\n",
    "end_time_cdist = time.time()\n",
    "print(\"Время cdist:\", end_time_cdist - start_time_cdist)\n",
    "\n",
    "print(\"Совпадают ли результаты:\", np.allclose(manual_distances, cdist_distances))"
   ]
  },
  {
   "cell_type": "markdown",
   "id": "1104acb7",
   "metadata": {},
   "source": [
    "* #### __Задача 6__: CrunchieMunchies __*__\n",
    "\n",
    "Вы работаете в отделе маркетинга пищевой компании MyCrunch, которая разрабатывает новый вид вкусных, полезных злаков под названием **CrunchieMunchies**.\n",
    "\n",
    "Вы хотите продемонстрировать потребителям, насколько полезны ваши хлопья по сравнению с другими ведущими брендами, поэтому вы собрали данные о питании нескольких разных конкурентов.\n",
    "\n",
    "Ваша задача - использовать вычисления Numpy для анализа этих данных и доказать, что ваши **СrunchieMunchies** - самый здоровый выбор для потребителей.\n"
   ]
  },
  {
   "cell_type": "code",
   "execution_count": 45,
   "id": "10a77f8d",
   "metadata": {},
   "outputs": [],
   "source": [
    "import numpy as np"
   ]
  },
  {
   "cell_type": "markdown",
   "id": "ab87cb03",
   "metadata": {},
   "source": [
    "1. Просмотрите файл cereal.csv. Этот файл содержит количества калорий для различных марок хлопьев. Загрузите данные из файла и сохраните их как calorie_stats."
   ]
  },
  {
   "cell_type": "code",
   "execution_count": 46,
   "id": "9681ebf2",
   "metadata": {},
   "outputs": [
    {
     "data": {
      "text/plain": [
       "array([ 70., 120.,  70.,  50., 110., 110., 110., 130.,  90.,  90., 120.,\n",
       "       110., 120., 110., 110., 110., 100., 110., 110., 110., 100., 110.,\n",
       "       100., 100., 110., 110., 100., 120., 120., 110., 100., 110., 100.,\n",
       "       110., 120., 120., 110., 110., 110., 140., 110., 100., 110., 100.,\n",
       "       150., 150., 160., 100., 120., 140.,  90., 130., 120., 100.,  50.,\n",
       "        50., 100., 100., 120., 100.,  90., 110., 110.,  80.,  90.,  90.,\n",
       "       110., 110.,  90., 110., 140., 100., 110., 110., 100., 100., 110.])"
      ]
     },
     "execution_count": 46,
     "metadata": {},
     "output_type": "execute_result"
    }
   ],
   "source": [
    "calorie_stats = np.loadtxt(\"data/cereal.csv\", delimiter=\",\")\n",
    "calorie_stats"
   ]
  },
  {
   "cell_type": "markdown",
   "id": "139cfbd8",
   "metadata": {},
   "source": [
    "2. В одной порции CrunchieMunchies содержится 60 калорий. Насколько выше среднее количество калорий у ваших конкурентов?\n",
    "\n",
    "Сохраните ответ в переменной average_calories и распечатайте переменную в терминале"
   ]
  },
  {
   "cell_type": "code",
   "execution_count": 47,
   "id": "7036d240",
   "metadata": {},
   "outputs": [
    {
     "name": "stdout",
     "output_type": "stream",
     "text": [
      "Среднее количество калорий у конкурентов выше на 47 кал\n"
     ]
    }
   ],
   "source": [
    "average_calories = np.average(calorie_stats, axis=0) - 60\n",
    "print(f\"Среднее количество калорий у конкурентов выше на {round(average_calories)} кал\")"
   ]
  },
  {
   "cell_type": "markdown",
   "id": "b2ddb4cd",
   "metadata": {},
   "source": [
    "3. Корректно ли среднее количество калорий отражает распределение набора данных? Давайте отсортируем данные и посмотрим.\n",
    "\n",
    "Отсортируйте данные и сохраните результат в переменной calorie_stats_sorted. Распечатайте отсортированную информацию"
   ]
  },
  {
   "cell_type": "code",
   "execution_count": 48,
   "id": "46eeb4ed",
   "metadata": {},
   "outputs": [
    {
     "name": "stdout",
     "output_type": "stream",
     "text": [
      "[ 50.  50.  50.  70.  70.  80.  90.  90.  90.  90.  90.  90.  90. 100.\n",
      " 100. 100. 100. 100. 100. 100. 100. 100. 100. 100. 100. 100. 100. 100.\n",
      " 100. 100. 110. 110. 110. 110. 110. 110. 110. 110. 110. 110. 110. 110.\n",
      " 110. 110. 110. 110. 110. 110. 110. 110. 110. 110. 110. 110. 110. 110.\n",
      " 110. 110. 110. 120. 120. 120. 120. 120. 120. 120. 120. 120. 120. 130.\n",
      " 130. 140. 140. 140. 150. 150. 160.]\n"
     ]
    }
   ],
   "source": [
    "calorie_stats_sorted = np.sort(calorie_stats)\n",
    "print(calorie_stats_sorted)"
   ]
  },
  {
   "cell_type": "markdown",
   "id": "4dc74116",
   "metadata": {},
   "source": [
    "4. Похоже, что большинство значений выше среднего. Давайте посмотрим, является ли медиана наиболее корректным показателем набора данных.\n",
    "\n",
    "Вычислите медиану набора данных и сохраните свой ответ в median_calories. Выведите медиану, чтобы вы могли видеть, как она сравнивается со средним значением."
   ]
  },
  {
   "cell_type": "code",
   "execution_count": 49,
   "id": "b56627c3",
   "metadata": {},
   "outputs": [
    {
     "name": "stdout",
     "output_type": "stream",
     "text": [
      "110.0\n"
     ]
    }
   ],
   "source": [
    "median_calories = np.median(calorie_stats_sorted, axis=0)\n",
    "print(median_calories)"
   ]
  },
  {
   "cell_type": "markdown",
   "id": "a63ab72f",
   "metadata": {},
   "source": [
    "5. В то время как медиана показывает, что по крайней мере половина наших значений составляет более 100 калорий, было бы более впечатляюще показать, что значительная часть конкурентов имеет более высокое количество калорий, чем CrunchieMunchies.\n",
    "\n",
    "Рассчитайте различные процентили и распечатайте их, пока не найдете наименьший процентиль, превышающий 60 калорий. Сохраните это значение в переменной nth_percentile."
   ]
  },
  {
   "cell_type": "code",
   "execution_count": 50,
   "id": "fe80ce03",
   "metadata": {},
   "outputs": [
    {
     "name": "stdout",
     "output_type": "stream",
     "text": [
      "Наименьший процентиль, превышающий 60 калорий: 90.0\n"
     ]
    }
   ],
   "source": [
    "percentiles = np.percentile(calorie_stats_sorted, np.arange(0, 101, 10))\n",
    "\n",
    "nth_percentile = next(p for p in percentiles if p > 60)\n",
    "\n",
    "print(f\"Наименьший процентиль, превышающий 60 калорий: {nth_percentile}\")"
   ]
  },
  {
   "cell_type": "markdown",
   "id": "a2a3c5aa",
   "metadata": {},
   "source": [
    "6. Хотя процентиль показывает нам, что у большинства конкурентов количество калорий намного выше, это неудобная концепция для использования в маркетинговых материалах.\n",
    "\n",
    "Вместо этого давайте подсчитаем процент хлопьев, в которых содержится более 60 калорий на порцию. Сохраните свой ответ в переменной more_calories и распечатайте его"
   ]
  },
  {
   "cell_type": "code",
   "execution_count": 51,
   "id": "ade0f6ea",
   "metadata": {},
   "outputs": [
    {
     "name": "stdout",
     "output_type": "stream",
     "text": [
      "Процент хлопьев с более чем 60 калориями: 96%\n"
     ]
    }
   ],
   "source": [
    "more_calories = np.mean(calorie_stats_sorted > 60) * 100\n",
    "print(f\"Процент хлопьев с более чем 60 калориями: {round(more_calories)}%\")"
   ]
  },
  {
   "cell_type": "markdown",
   "id": "1735d65b",
   "metadata": {},
   "source": [
    "7. Это действительно высокий процент. Это будет очень полезно, когда мы будем продвигать CrunchieMunchies. Но один вопрос заключается в том, насколько велики различия в наборе данных? Можем ли мы сделать обобщение, что в большинстве злаков содержится около 100 калорий или разброс еще больше?\n",
    "\n",
    "Рассчитайте величину отклонения, найдя стандартное отклонение, Сохраните свой ответ в calorie_std и распечатайте на терминале. Как мы можем включить эту ценность в наш анализ?"
   ]
  },
  {
   "cell_type": "code",
   "execution_count": 52,
   "id": "85c8df1f",
   "metadata": {},
   "outputs": [
    {
     "name": "stdout",
     "output_type": "stream",
     "text": [
      "Стандартное отклонение количества калорий: 19\n"
     ]
    }
   ],
   "source": [
    "calorie_std = np.std(calorie_stats_sorted)\n",
    "\n",
    "print(f\"Стандартное отклонение количества калорий: {round(calorie_std)}\")"
   ]
  },
  {
   "cell_type": "markdown",
   "id": "037455c5",
   "metadata": {},
   "source": [
    "8. Напишите короткий абзац, в котором кратко изложите свои выводы и то, как, по вашему мнению, эти данные могут быть использованы в интересах Mycrunch при маркетинге CrunchieMunchies."
   ]
  },
  {
   "cell_type": "markdown",
   "id": "e0f630f1-bc2b-4a04-ba2b-7724bae55cd8",
   "metadata": {},
   "source": [
    "Если наша задача - использовать вычисления Numpy для анализа этих данных и доказать, что **СrunchieMunchies** - самый здоровый выбор для потребителей.\n",
    "Используя наш анализ мы можем подчеркнуть преимущества CrunchieMunchies среди конкурентов.\n",
    "1. В одной порции CrunchieMunchies содержится 60 калорий, в отличие от конкурентов, где среднее количество калорий в одной порции выше на 47 кал\n",
    "2. У большинства конкурентов среднее количество калорий больше среднего, а именно около 100 и более\n",
    "3. Процент хлопьев с более чем 60 калориями равен 96%, что выделяет нас на рынке"
   ]
  }
 ],
 "metadata": {
  "kernelspec": {
   "display_name": "Python 3 (ipykernel)",
   "language": "python",
   "name": "python3"
  },
  "language_info": {
   "codemirror_mode": {
    "name": "ipython",
    "version": 3
   },
   "file_extension": ".py",
   "mimetype": "text/x-python",
   "name": "python",
   "nbconvert_exporter": "python",
   "pygments_lexer": "ipython3",
   "version": "3.10.12"
  }
 },
 "nbformat": 4,
 "nbformat_minor": 5
}
